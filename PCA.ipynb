{
 "cells": [
  {
   "cell_type": "markdown",
   "metadata": {},
   "source": [
    "# PCA on quality"
   ]
  },
  {
   "cell_type": "code",
   "execution_count": 2,
   "metadata": {},
   "outputs": [
    {
     "name": "stdout",
     "output_type": "stream",
     "text": [
      "[[ 0.57136659 -0.15493527 -0.41992227 ... -1.06796617 -0.54163974\n",
      "  -1.41855821]\n",
      " [ 0.57136659 -0.68276784 -0.23806621 ...  0.42962214 -0.27379331\n",
      "  -0.83161516]\n",
      " [ 0.57136659  0.67451592 -0.35930358 ...  0.22994369 -0.60860135\n",
      "  -0.32852111]\n",
      " ...\n",
      " [-1.75018984 -0.68276784  1.03492625 ...  1.02865746  1.4672085\n",
      "   0.42611996]\n",
      " [-1.75018984 -0.98438646  1.85327854 ...  1.77745161  1.19936207\n",
      "  -0.2446721 ]\n",
      " [-1.75018984 -0.9089818  -0.17744752 ...  0.87889863  0.86455403\n",
      "   0.42611996]]\n",
      "0       6\n",
      "1       6\n",
      "2       6\n",
      "3       6\n",
      "4       6\n",
      "       ..\n",
      "6492    5\n",
      "6493    6\n",
      "6494    6\n",
      "6495    5\n",
      "6496    6\n",
      "Name: quality, Length: 6497, dtype: int64\n",
      "[0.31372604 0.20836901 0.12541972]\n",
      "0.6475147664593773\n"
     ]
    }
   ],
   "source": [
    "import numpy as np\n",
    "import matplotlib.pyplot as plt\n",
    "import pandas as pd\n",
    "from sklearn.decomposition import PCA\n",
    "from sklearn.preprocessing import StandardScaler\n",
    "\n",
    "\n",
    "df = pd.read_csv('winequalityN.csv')\n",
    "#print(dataset)\n",
    "#dataset = dataset.dropna(inplace=True)\n",
    "\n",
    "\n",
    "def myfunction(x):\n",
    "    if x == \"red\":\n",
    "        return 0\n",
    "    else:#white\n",
    "        return 1\n",
    "    \n",
    "    \n",
    "df[\"type\"] = df[\"type\"].apply(myfunction)\n",
    "df = df.fillna(0)\n",
    "\n",
    "x = StandardScaler().fit_transform(df.iloc[:,:12])\n",
    "print(x)\n",
    "y = df.quality\n",
    "print(y)\n",
    "\n",
    "\n",
    "pca = PCA(n_components=3)\n",
    "pc = pca.fit_transform(x)\n",
    "\n",
    "print(pca.explained_variance_ratio_)\n",
    "print(pca.explained_variance_ratio_.sum())"
   ]
  },
  {
   "cell_type": "code",
   "execution_count": null,
   "metadata": {},
   "outputs": [],
   "source": []
  }
 ],
 "metadata": {
  "kernelspec": {
   "display_name": "Python 3",
   "language": "python",
   "name": "python3"
  },
  "language_info": {
   "codemirror_mode": {
    "name": "ipython",
    "version": 3
   },
   "file_extension": ".py",
   "mimetype": "text/x-python",
   "name": "python",
   "nbconvert_exporter": "python",
   "pygments_lexer": "ipython3",
   "version": "3.8.2"
  }
 },
 "nbformat": 4,
 "nbformat_minor": 4
}
